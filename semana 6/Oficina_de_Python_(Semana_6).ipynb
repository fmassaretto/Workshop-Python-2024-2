{
  "nbformat": 4,
  "nbformat_minor": 0,
  "metadata": {
    "colab": {
      "provenance": []
    },
    "kernelspec": {
      "name": "python3",
      "display_name": "Python 3"
    },
    "language_info": {
      "name": "python"
    }
  },
  "cells": [
    {
      "cell_type": "markdown",
      "source": [
        "# Funções do String\n",
        "\n",
        "Quando você cria uma variável do tipo string, ex.:\n",
        "\n",
        "\n",
        "```\n",
        "texto = 'Isso é um texto'\n",
        "```\n",
        "o Python 'oferece' algumas funções interessantes para o desenvolvedor que facilitam a vida.\n",
        "A seguir tem alguns exemplos deles:\n"
      ],
      "metadata": {
        "id": "VCn_wGBPApv2"
      }
    },
    {
      "cell_type": "code",
      "source": [
        "#0: replace(): substitui uma palavra (primeiro parametro) por uma outra palavra (segundo parametro)\n",
        "\n",
        "texto = 'Isso é um texto'\n",
        "print(texto.replace('texto', 'string'))"
      ],
      "metadata": {
        "colab": {
          "base_uri": "https://localhost:8080/"
        },
        "id": "u4zBvUw-VWBs",
        "outputId": "67cb3fd8-b184-4afe-ea69-6d4775cfab74"
      },
      "execution_count": null,
      "outputs": [
        {
          "output_type": "stream",
          "name": "stdout",
          "text": [
            "Isso é um string\n"
          ]
        }
      ]
    },
    {
      "cell_type": "code",
      "execution_count": null,
      "metadata": {
        "colab": {
          "base_uri": "https://localhost:8080/"
        },
        "id": "3Y0otewdAfUq",
        "outputId": "a04c6d53-4aca-43f3-a7c0-30a6833fc7a7"
      },
      "outputs": [
        {
          "output_type": "stream",
          "name": "stdout",
          "text": [
            "Isso é um texto\n"
          ]
        }
      ],
      "source": [
        "# 1: Capitalize(): Transforma primeira letra em maíuscula\n",
        "\n",
        "texto = 'isso é um texto'\n",
        "print(texto.capitalize())"
      ]
    },
    {
      "cell_type": "code",
      "source": [
        "# 2: center(): Deixa o texto centralizado no terminal\n",
        "\n",
        "texto = 'Isso é um texto'\n",
        "print(texto.center(50, '*'))"
      ],
      "metadata": {
        "colab": {
          "base_uri": "https://localhost:8080/"
        },
        "id": "3CE_EGdKLbmr",
        "outputId": "c2df930c-28e0-4360-aed0-1fc419804733"
      },
      "execution_count": null,
      "outputs": [
        {
          "output_type": "stream",
          "name": "stdout",
          "text": [
            "*****************Isso é um texto******************\n"
          ]
        }
      ]
    },
    {
      "cell_type": "code",
      "source": [
        "# 3: count(): conta quantas uma palavra/letra aparecem no texto\n",
        "\n",
        "texto = 'abc_abc_abc_cba'\n",
        "print(texto.count('abc'))"
      ],
      "metadata": {
        "colab": {
          "base_uri": "https://localhost:8080/"
        },
        "id": "gTvOhX3iL6-S",
        "outputId": "d72906c2-743a-4a7e-8ba5-a2ef70e6a61a"
      },
      "execution_count": null,
      "outputs": [
        {
          "output_type": "stream",
          "name": "stdout",
          "text": [
            "3\n"
          ]
        }
      ]
    },
    {
      "cell_type": "code",
      "source": [
        "#4: endswith(): Retorna True ou False se a string termina com uma palavra/letra\n",
        "\n",
        "texto = 'Isso é um texto'\n",
        "print(texto.endswith('texto'))\n",
        "print(texto.endswith(('um', 'texto')))"
      ],
      "metadata": {
        "colab": {
          "base_uri": "https://localhost:8080/"
        },
        "id": "5R5oz4x7Mawt",
        "outputId": "d9160a52-38c2-42c1-c769-6e7bfe87275b"
      },
      "execution_count": null,
      "outputs": [
        {
          "output_type": "stream",
          "name": "stdout",
          "text": [
            "False\n",
            "False\n"
          ]
        }
      ]
    },
    {
      "cell_type": "code",
      "source": [
        "#5: find(): retorna o index da posição da palavra onde aparecer primeiro\n",
        "\n",
        "texto = 'Isso é um texto'\n",
        "print(texto.find('é'))\n",
        "\n",
        "# se não encontrar retorna -1\n",
        "print(texto.find('y'))\n"
      ],
      "metadata": {
        "colab": {
          "base_uri": "https://localhost:8080/"
        },
        "id": "uCd4V2vvNPLl",
        "outputId": "68e69b49-1641-4f25-e4b0-56f031a0f7ff"
      },
      "execution_count": null,
      "outputs": [
        {
          "output_type": "stream",
          "name": "stdout",
          "text": [
            "5\n",
            "-1\n"
          ]
        }
      ]
    },
    {
      "cell_type": "code",
      "source": [
        "#6: format:: formata a string, substituindo valores que você definir\n",
        "\n",
        "texto = '{sujeito} está: {acao}'\n",
        "print(texto.format(sujeito='João', acao='correndo'))\n",
        "\n",
        "texto = '{} está: {}' # alternativa\n",
        "print(texto.format('João', 'correndo'))"
      ],
      "metadata": {
        "colab": {
          "base_uri": "https://localhost:8080/"
        },
        "id": "NHHjycEtN8gO",
        "outputId": "6915e5ad-d291-4289-8905-8d2190ed8918"
      },
      "execution_count": null,
      "outputs": [
        {
          "output_type": "stream",
          "name": "stdout",
          "text": [
            "João está: correndo\n",
            "João está: correndo\n"
          ]
        }
      ]
    },
    {
      "cell_type": "code",
      "source": [
        "#7: index(): similar ao find() mas se não encontrar o valor retorna erro\n",
        "texto = 'Isso é um texto'\n",
        "print(texto.index('é'))\n",
        "\n",
        "# se não encontrar retorna um erro/exceção\n",
        "#print(texto.index('y'))\n"
      ],
      "metadata": {
        "colab": {
          "base_uri": "https://localhost:8080/",
          "height": 201
        },
        "id": "MZUGEjJ5O3hd",
        "outputId": "48a94eb5-db22-409b-e198-b08f68eb8e30"
      },
      "execution_count": null,
      "outputs": [
        {
          "output_type": "stream",
          "name": "stdout",
          "text": [
            "5\n"
          ]
        },
        {
          "output_type": "error",
          "ename": "ValueError",
          "evalue": "substring not found",
          "traceback": [
            "\u001b[0;31m---------------------------------------------------------------------------\u001b[0m",
            "\u001b[0;31mValueError\u001b[0m                                Traceback (most recent call last)",
            "\u001b[0;32m<ipython-input-15-50c6944ae945>\u001b[0m in \u001b[0;36m<cell line: 6>\u001b[0;34m()\u001b[0m\n\u001b[1;32m      4\u001b[0m \u001b[0;34m\u001b[0m\u001b[0m\n\u001b[1;32m      5\u001b[0m \u001b[0;31m# se não encontrar retorna -1\u001b[0m\u001b[0;34m\u001b[0m\u001b[0;34m\u001b[0m\u001b[0m\n\u001b[0;32m----> 6\u001b[0;31m \u001b[0mprint\u001b[0m\u001b[0;34m(\u001b[0m\u001b[0mtexto\u001b[0m\u001b[0;34m.\u001b[0m\u001b[0mindex\u001b[0m\u001b[0;34m(\u001b[0m\u001b[0;34m'y'\u001b[0m\u001b[0;34m)\u001b[0m\u001b[0;34m)\u001b[0m\u001b[0;34m\u001b[0m\u001b[0;34m\u001b[0m\u001b[0m\n\u001b[0m",
            "\u001b[0;31mValueError\u001b[0m: substring not found"
          ]
        }
      ]
    },
    {
      "cell_type": "code",
      "source": [
        "#8: isalnum(): retorna true ou False se o texto é alfanumérico\n",
        "\n",
        "texto = 'abc123'\n",
        "print(texto.isalnum())\n",
        "\n",
        "texto = 'abc 123'\n",
        "print(texto.isalnum())"
      ],
      "metadata": {
        "colab": {
          "base_uri": "https://localhost:8080/"
        },
        "id": "sbhRifDFPYHK",
        "outputId": "849c277f-7c3c-4dd2-93b6-8d6128b46b57"
      },
      "execution_count": null,
      "outputs": [
        {
          "output_type": "stream",
          "name": "stdout",
          "text": [
            "True\n",
            "False\n"
          ]
        }
      ]
    },
    {
      "cell_type": "code",
      "source": [
        "#8: isalpha(): retorna true ou False se o texto só tem letras somente\n",
        "\n",
        "texto = 'abc'\n",
        "print(texto.isalpha())\n",
        "\n",
        "texto = 'abc123'\n",
        "print(texto.isalpha())\n",
        "\n",
        "texto = 'abc!'\n",
        "print(texto.isalpha())"
      ],
      "metadata": {
        "colab": {
          "base_uri": "https://localhost:8080/"
        },
        "id": "WZFyPH50P4p5",
        "outputId": "96e764a4-e243-48a0-c0bc-c73b2f79ff91"
      },
      "execution_count": null,
      "outputs": [
        {
          "output_type": "stream",
          "name": "stdout",
          "text": [
            "True\n",
            "False\n",
            "False\n"
          ]
        }
      ]
    },
    {
      "cell_type": "code",
      "source": [
        "#9: isdecimal(): se a string é um decimal, é também um digito e numerico\n",
        "texto = '123'\n",
        "print(texto.isdecimal())\n",
        "\n",
        "texto = '①②③'\n",
        "print(texto.isdecimal())\n",
        "\n",
        "print()\n",
        "\n",
        "#10: isdigit(): Se a string é um digito ou representa um digito e numérico\n",
        "texto = '123'\n",
        "print(texto.isdigit())\n",
        "\n",
        "texto = '①②③'\n",
        "print(texto.isdigit())\n",
        "\n",
        "print()\n",
        "\n",
        "#11: isnumeric(): Se é um numérico\n",
        "texto = '123'\n",
        "print(texto.isnumeric())\n",
        "\n",
        "texto = '①②③'\n",
        "print(texto.isnumeric())\n",
        "\n",
        "texto = '一二三四五六七八九十'\n",
        "print(texto.isnumeric())"
      ],
      "metadata": {
        "colab": {
          "base_uri": "https://localhost:8080/"
        },
        "id": "DCRAy75oQhH6",
        "outputId": "46693774-97a9-4a14-b383-0be91992ae6d"
      },
      "execution_count": null,
      "outputs": [
        {
          "output_type": "stream",
          "name": "stdout",
          "text": [
            "True\n",
            "False\n",
            "\n",
            "True\n",
            "True\n",
            "\n",
            "True\n",
            "True\n",
            "True\n"
          ]
        }
      ]
    },
    {
      "cell_type": "code",
      "source": [
        "#12: islower(): retorna boleano se string for minúscula\n",
        "texto = 'abc'\n",
        "print(texto.islower())\n",
        "\n",
        "texto = 'Abc'\n",
        "print(texto.islower())\n",
        "\n",
        "#13: tolower(): converte para minúscula\n",
        "print(texto.lower())\n",
        "\n",
        "#14: isupper(): retorna boleano sestring for maiúscula\n",
        "print(texto.isupper())\n",
        "\n",
        "#15: toupper(): converte para maiúscula\n",
        "print(texto.upper())"
      ],
      "metadata": {
        "colab": {
          "base_uri": "https://localhost:8080/"
        },
        "id": "gyZlSkyOSVis",
        "outputId": "dd67006b-38e5-4fe7-8390-34dfb81b96eb"
      },
      "execution_count": null,
      "outputs": [
        {
          "output_type": "stream",
          "name": "stdout",
          "text": [
            "True\n",
            "False\n",
            "abc\n",
            "False\n",
            "ABC\n"
          ]
        }
      ]
    },
    {
      "cell_type": "code",
      "source": [
        "#16: isspace(): retorna boleano se string é somente espaço\n",
        "texto = ' '\n",
        "print(texto.isspace())\n",
        "\n",
        "texto = 'abc'\n",
        "print(texto.isspace())"
      ],
      "metadata": {
        "colab": {
          "base_uri": "https://localhost:8080/"
        },
        "id": "eFzYT49eSzOG",
        "outputId": "555e3438-7fa7-42fe-a67b-6aa22f49f932"
      },
      "execution_count": null,
      "outputs": [
        {
          "output_type": "stream",
          "name": "stdout",
          "text": [
            "True\n",
            "False\n"
          ]
        }
      ]
    },
    {
      "cell_type": "code",
      "source": [
        "#17: join(): junta as string com um(a) caracter/palavra que eu quiser\n",
        "texto = 'abc'\n",
        "print('^^'.join(texto))\n",
        "\n",
        "hifen = '-'\n",
        "print(hifen.join(['texto1', 'texto2', 'texto3']))"
      ],
      "metadata": {
        "colab": {
          "base_uri": "https://localhost:8080/"
        },
        "id": "PZI__MrLTX2H",
        "outputId": "cfdb7b11-87ab-40d0-e68e-1db34f121b19"
      },
      "execution_count": null,
      "outputs": [
        {
          "output_type": "stream",
          "name": "stdout",
          "text": [
            "a^^b^^c\n",
            "texto1-texto2-texto3\n"
          ]
        }
      ]
    },
    {
      "cell_type": "code",
      "source": [
        "#18: ljust(): completa a string com o caracter (segundo parametro) na quantidade desejada (primeiro parametro) no final\n",
        "texto = 'abc'\n",
        "print(texto.ljust(20, '_'))\n",
        "\n",
        "#19: rjust(): mesma coisa que o anterior maior completa no começo\n",
        "texto = 'abc'\n",
        "print(texto.rjust(20, '_'))"
      ],
      "metadata": {
        "colab": {
          "base_uri": "https://localhost:8080/"
        },
        "id": "ZwAZ1ZUAUPJu",
        "outputId": "c00e4025-79ec-4aa6-9f1b-2d797d89f961"
      },
      "execution_count": null,
      "outputs": [
        {
          "output_type": "stream",
          "name": "stdout",
          "text": [
            "abc_________________\n",
            "_________________abc\n"
          ]
        }
      ]
    },
    {
      "cell_type": "code",
      "source": [
        "#20: split(): separa cada palavra e retorna uma lista com essas palavras\n",
        "\n",
        "texto = 'Isso é um texto'\n",
        "print(texto.split())\n",
        "\n",
        "texto = 'Isso-é-um-texto'\n",
        "print(texto.split('-'))\n"
      ],
      "metadata": {
        "colab": {
          "base_uri": "https://localhost:8080/"
        },
        "id": "7coOWhUkV27G",
        "outputId": "19d18e57-f60c-423a-b01a-e9f028f74eea"
      },
      "execution_count": null,
      "outputs": [
        {
          "output_type": "stream",
          "name": "stdout",
          "text": [
            "['Isso', 'é', 'um', 'texto']\n",
            "['Isso', 'é', 'um', 'texto']\n"
          ]
        }
      ]
    },
    {
      "cell_type": "code",
      "source": [
        "#21: strip(): remove a palavra ou do inicio ou do final da frase\n",
        "\n",
        "texto = 'Isso é um texto'\n",
        "print(texto.strip('Isso é '))\n",
        "\n",
        "texto = 'Isso é um texto'\n",
        "print(texto.strip('texto'))\n"
      ],
      "metadata": {
        "colab": {
          "base_uri": "https://localhost:8080/"
        },
        "id": "hn2Wv39jgYpB",
        "outputId": "90031509-737d-4abf-d0d4-072a487a1dc1"
      },
      "execution_count": null,
      "outputs": [
        {
          "output_type": "stream",
          "name": "stdout",
          "text": [
            "um text\n",
            "Isso é um \n"
          ]
        }
      ]
    },
    {
      "cell_type": "markdown",
      "source": [
        "# Técnica de Slicing\n",
        "\n",
        "A tecnica de slicing (ou fatiamento) é usada quando em um texto eu quero 'fatiar' ele a partir de um determinada posição inteira de um caracter até um determinada posição inteira final. Sintaxe:\n",
        "\n",
        "\n",
        "\n",
        "```\n",
        "'Aqui vai um texto'[inicio:fim:passo(opicional)]\n",
        "```\n",
        "\n",
        "\n",
        "\n",
        "exemplo para ficar mais claro:"
      ],
      "metadata": {
        "id": "r4ObArZOWgJ7"
      }
    },
    {
      "cell_type": "code",
      "source": [
        "texto = 'Isso é um texto'\n",
        "\n",
        "print(texto[0:4])\n",
        "print(texto[2:11])\n",
        "print(texto[2:11:2])\n",
        "\n",
        "# eu posso nao especifcar o inicio, ai ele 'pega' a partir do inicio\n",
        "print(texto[:11])\n",
        "\n",
        "# ou nao especificar o fim, ai ele 'pega' até o fim\n",
        "print(texto[8:])\n",
        "\n",
        "# é possivel tambem passa uma posição negativa, ai inverte e comeca a contar do fim para o inicio\n",
        "print(texto[-5:])\n",
        "\n",
        "\n",
        "# CURIOSIDADE: no python é bem simples inverter um texto, usando essa sintaxe:\n",
        "# texto[inicio:fim:passo]\n",
        "print(texto[::-1])"
      ],
      "metadata": {
        "colab": {
          "base_uri": "https://localhost:8080/"
        },
        "id": "EMiwrCw7XVhD",
        "outputId": "20966fcf-a376-4049-b0d1-7930e824bd2d"
      },
      "execution_count": null,
      "outputs": [
        {
          "output_type": "stream",
          "name": "stdout",
          "text": [
            "Isso\n",
            "so é um t\n",
            "s  mt\n",
            "Isso é um t\n",
            "m texto\n",
            "texto\n",
            "otxet mu é ossI\n"
          ]
        }
      ]
    },
    {
      "cell_type": "markdown",
      "source": [
        "# Desafio\n",
        "\n",
        "Um desafio bem simples é fazer um verificar se uma palavra/frase é palindromo, ou seja, se é lida igual de trás para frente. Para isso crie uma função eh_palindromo() que retorna boleano"
      ],
      "metadata": {
        "id": "ryljQbv6Z5sN"
      }
    },
    {
      "cell_type": "code",
      "source": [
        "palavra = 'Ana'\n",
        "\n",
        "\n",
        "def eh_palindromo(palavra):\n",
        "  palindromo = palavra[::-1]\n",
        "  if palavra.lower() == palindromo.lower():\n",
        "    return True\n",
        "  else:\n",
        "    return False\n",
        "\n",
        "\n",
        "eh_palindromo(palavra)"
      ],
      "metadata": {
        "colab": {
          "base_uri": "https://localhost:8080/",
          "height": 297
        },
        "id": "HlQkOCKKa2SZ",
        "outputId": "08626ec1-0068-489a-dc0c-68259a2edf83"
      },
      "execution_count": null,
      "outputs": [
        {
          "output_type": "error",
          "ename": "TypeError",
          "evalue": "str.lower() takes no arguments (1 given)",
          "traceback": [
            "\u001b[0;31m---------------------------------------------------------------------------\u001b[0m",
            "\u001b[0;31mTypeError\u001b[0m                                 Traceback (most recent call last)",
            "\u001b[0;32m<ipython-input-4-813997dde517>\u001b[0m in \u001b[0;36m<cell line: 12>\u001b[0;34m()\u001b[0m\n\u001b[1;32m     10\u001b[0m \u001b[0;34m\u001b[0m\u001b[0m\n\u001b[1;32m     11\u001b[0m \u001b[0;34m\u001b[0m\u001b[0m\n\u001b[0;32m---> 12\u001b[0;31m \u001b[0meh_palindromo\u001b[0m\u001b[0;34m(\u001b[0m\u001b[0mpalavra\u001b[0m\u001b[0;34m)\u001b[0m\u001b[0;34m\u001b[0m\u001b[0;34m\u001b[0m\u001b[0m\n\u001b[0m",
            "\u001b[0;32m<ipython-input-4-813997dde517>\u001b[0m in \u001b[0;36meh_palindromo\u001b[0;34m(palavra)\u001b[0m\n\u001b[1;32m      4\u001b[0m \u001b[0;32mdef\u001b[0m \u001b[0meh_palindromo\u001b[0m\u001b[0;34m(\u001b[0m\u001b[0mpalavra\u001b[0m\u001b[0;34m)\u001b[0m\u001b[0;34m:\u001b[0m\u001b[0;34m\u001b[0m\u001b[0;34m\u001b[0m\u001b[0m\n\u001b[1;32m      5\u001b[0m   \u001b[0mpalindromo\u001b[0m \u001b[0;34m=\u001b[0m \u001b[0mpalavra\u001b[0m\u001b[0;34m[\u001b[0m\u001b[0;34m:\u001b[0m\u001b[0;34m:\u001b[0m\u001b[0;34m-\u001b[0m\u001b[0;36m1\u001b[0m\u001b[0;34m]\u001b[0m\u001b[0;34m\u001b[0m\u001b[0;34m\u001b[0m\u001b[0m\n\u001b[0;32m----> 6\u001b[0;31m   \u001b[0;32mif\u001b[0m \u001b[0mpalavra\u001b[0m\u001b[0;34m.\u001b[0m\u001b[0mlower\u001b[0m\u001b[0;34m(\u001b[0m\u001b[0;34m'A'\u001b[0m\u001b[0;34m)\u001b[0m \u001b[0;34m==\u001b[0m \u001b[0mpalindromo\u001b[0m\u001b[0;34m.\u001b[0m\u001b[0mlower\u001b[0m\u001b[0;34m(\u001b[0m\u001b[0;34m)\u001b[0m\u001b[0;34m:\u001b[0m\u001b[0;34m\u001b[0m\u001b[0;34m\u001b[0m\u001b[0m\n\u001b[0m\u001b[1;32m      7\u001b[0m     \u001b[0;32mreturn\u001b[0m \u001b[0;32mTrue\u001b[0m\u001b[0;34m\u001b[0m\u001b[0;34m\u001b[0m\u001b[0m\n\u001b[1;32m      8\u001b[0m   \u001b[0;32melse\u001b[0m\u001b[0;34m:\u001b[0m\u001b[0;34m\u001b[0m\u001b[0;34m\u001b[0m\u001b[0m\n",
            "\u001b[0;31mTypeError\u001b[0m: str.lower() takes no arguments (1 given)"
          ]
        }
      ]
    },
    {
      "cell_type": "markdown",
      "source": [
        "# Desafio Extra\n",
        "\n",
        "Agora ao invés de palavra, faça com uma frase. Você terá que usar conceitos já vistos nesta oficina. Exemple de frase que retornará True: 'socorram-me subi no onibus em Marrocos'"
      ],
      "metadata": {
        "id": "VB9PY1yJcwS6"
      }
    }
  ]
}