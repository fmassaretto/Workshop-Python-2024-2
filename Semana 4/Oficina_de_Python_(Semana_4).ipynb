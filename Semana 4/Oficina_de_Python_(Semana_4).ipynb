{
  "nbformat": 4,
  "nbformat_minor": 0,
  "metadata": {
    "colab": {
      "provenance": []
    },
    "kernelspec": {
      "name": "python3",
      "display_name": "Python 3"
    },
    "language_info": {
      "name": "python"
    }
  },
  "cells": [
    {
      "cell_type": "markdown",
      "source": [
        "# Estrutura de repetição (for e while)\n",
        "\n",
        "Quando um bloco de codigo precisa se repetir varias vezes, usamos uma estrutura de repetição. Em python existe basicamente dois tipos: for e while\n",
        "\n",
        "**For:** usamos quando sabemos quantas vezes irá se repitir. Podemos ouvir em iteração e iterar é percorrer os elementos de uma sequencia, na ordem que está dentro dela.\n",
        "\n",
        "**while:** usamos quando nao temos certeza quantas vezes irá se repitir\n",
        "\n",
        "\n",
        "\n",
        "\n",
        "---\n",
        "\n",
        "\n",
        "estrutura do for:\n",
        "\n",
        "\n",
        "```\n",
        "for <valor> in <sequencia de elementos>:\n",
        "  # o codigo aqui\n",
        "```\n",
        "\n",
        "Estrutura do while:\n",
        "\n",
        "\n",
        "```\n",
        "while <condição for verdadeira>:\n",
        "  # o codigo aqui\n",
        "```\n",
        "\n",
        "# Exemplos:\n"
      ],
      "metadata": {
        "id": "Lpj2g7hPDX_P"
      }
    },
    {
      "cell_type": "code",
      "source": [
        "lista_de_elementos = [1,2,34,42,51,6,75,8,96,101]\n",
        "lista_de_elementos2 = ['alguns','elementos','da', 'lista', 'na', 'ordem']\n",
        "\n",
        "for elemento in lista_de_elementos2:\n",
        "  print(elemento)\n",
        "\n",
        "print()\n",
        "print('Com função range')\n",
        "for elemento in range(1, 10): # sintaxe: range(inicio<inclusivo>, fim<exclusivo>). range mosta uma sequencia nesse caso de 1 até 9 (mesmo colocando 10 ele retorna 9 pois nao é inclusivo)\n",
        "  print(elemento)"
      ],
      "metadata": {
        "id": "Dw9H5v6ybD7G"
      },
      "execution_count": null,
      "outputs": []
    },
    {
      "cell_type": "code",
      "source": [
        "contagem = 0\n",
        "\n",
        "while contagem < 10:\n",
        "  print(contagem)\n",
        "  contagem += 1 # é a mesma coise que: contagem = contagem + 1"
      ],
      "metadata": {
        "id": "jqA8RYu3bfge"
      },
      "execution_count": null,
      "outputs": []
    },
    {
      "cell_type": "markdown",
      "source": [
        "# Dasafio 1\n",
        "\n",
        "Vamos fazer um jogo de adivinhação: o sistema irá gerar um número e terá que perguntar para o usuário digitar um número para adivinhar, se o número não for igual ao número gerado, irá perguntar novamente um novo número até que o número do usuário é igual ao número gerado, mostrando uma mensagem 'Parabéns! Você adivinhou o número!'"
      ],
      "metadata": {
        "id": "vnlLiDjwAvsY"
      }
    },
    {
      "cell_type": "code",
      "source": [
        "\n",
        "import random\n",
        "numero_para_adivinhar = random.randint(1, 100)\n",
        "\n",
        "numero_digitado = int(input('Digite um numero: '))\n",
        "\n",
        "while(numero_digitado != numero_para_adivinhar):\n",
        "  if(numero_digitado != numero_para_adivinhar):\n",
        "    print('Errou! Tente novamente')\n",
        "    numero_digitado = int(input('Digite um novo numero: '))\n",
        "\n",
        "\n",
        "print('Parabéns! Você adivinhou o numero!')\n"
      ],
      "metadata": {
        "colab": {
          "base_uri": "https://localhost:8080/"
        },
        "id": "c3PFJ8WSAvCP",
        "outputId": "003f93aa-ce03-4ce0-c2e1-a14d0f04471f"
      },
      "execution_count": null,
      "outputs": [
        {
          "output_type": "stream",
          "name": "stdout",
          "text": [
            "Digite um numero: 23\n",
            "Errou! Tente novamente\n",
            "Digite um numero: 32\n",
            "Parabéns! Você adivinhou o numero!\n"
          ]
        }
      ]
    },
    {
      "cell_type": "markdown",
      "source": [
        "# Desafio 2\n",
        "\n",
        "Alterar o desafio 1 acima para que:\n",
        "1. O número a se adivinhar seja gerado randomicamente\n",
        "2. Se o número digitado pelo usuário for maior que o numero a ser adivinhado, mostrar a mensagem 'Errou! Tente um número menor:'\n",
        "3. Se o número digitado pelo usuário for menor que o numero a ser adivinhado, mostrar a mensagem 'Errou! Tente um número maior:'"
      ],
      "metadata": {
        "id": "D4ROmq7iGhyx"
      }
    },
    {
      "cell_type": "code",
      "source": [
        "\n",
        "\n",
        "\n",
        "\n",
        "\n",
        "\n",
        "\n",
        "\n",
        "\n",
        "\n",
        "\n",
        "\n",
        "\n",
        "\n",
        "\n",
        "\n",
        "\n",
        "\n",
        "\n",
        "import random\n",
        "\n",
        "numero_para_adivinhar = random.randint(1, 100)\n",
        "\n",
        "numero_digitado = int(input('Digite um numero entre 1 e 100: '))\n",
        "\n",
        "while(numero_digitado != numero_para_adivinhar):\n",
        "  if (numero_digitado > numero_para_adivinhar):\n",
        "    numero_digitado = int(input('Errou! Tente um numero menor: '))\n",
        "  elif (numero_digitado < numero_para_adivinhar):\n",
        "    numero_digitado = int(input('Errou! Tente um numero maior: '))\n",
        "\n",
        "\n",
        "print('Parabéns! Você adivinhou o numero!')"
      ],
      "metadata": {
        "id": "iRhdO8RGEEKM"
      },
      "execution_count": null,
      "outputs": []
    }
  ]
}