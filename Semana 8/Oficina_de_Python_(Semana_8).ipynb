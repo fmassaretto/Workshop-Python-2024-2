{
  "nbformat": 4,
  "nbformat_minor": 0,
  "metadata": {
    "colab": {
      "provenance": []
    },
    "kernelspec": {
      "name": "python3",
      "display_name": "Python 3"
    },
    "language_info": {
      "name": "python"
    }
  },
  "cells": [
    {
      "cell_type": "markdown",
      "source": [
        "# Projeto Final\n",
        "\n",
        "Construir um mini sistema bancário, crie uma classe chamada Cliente e nela defina um método __init__ passa como parâmetros: nome, número da conta e saldo inicial.\n",
        "\n",
        "E também crie os métodos de depositar, sacar, transferir, get_saldo e um dunder método __str__ .\n",
        "\n",
        "\n",
        "\n",
        "Crie um outro arquivo .py para instanciar a classe Cliente e faça todas as operações da classe."
      ],
      "metadata": {
        "id": "lxMWbI8yvpKj"
      }
    },
    {
      "cell_type": "markdown",
      "source": [
        "cliente.py"
      ],
      "metadata": {
        "id": "uZnsAE1kT1oO"
      }
    },
    {
      "cell_type": "code",
      "execution_count": 2,
      "metadata": {
        "id": "_WTHso0pTlyo"
      },
      "outputs": [],
      "source": [
        "\n",
        "class Cliente:\n",
        "    def __init__(self, nome: str, numero_conta: int, saldo_inicial: float):\n",
        "        self.nome = nome\n",
        "        self.numero_conta = numero_conta\n",
        "        self.saldo = saldo_inicial\n",
        "\n",
        "    def depositar(self, quantidade_dinheiro: float):\n",
        "        self.saldo += quantidade_dinheiro\n",
        "\n",
        "    def sacar(self, quantidade_dinheiro: float):\n",
        "      # Detalhe: posso substituir esse dois 'ifs' pelo método is_saldo_valido abaixo\n",
        "      # igual foi feito no método transferir\n",
        "        if(self.saldo <= 0):\n",
        "            print('Você não tem saldo suficiente para sacar!')\n",
        "            return\n",
        "\n",
        "        if(quantidade_dinheiro > self.saldo):\n",
        "            print('O valor que quer sacar é maior que o saldo!')\n",
        "            return\n",
        "\n",
        "        self.saldo -= quantidade_dinheiro\n",
        "        print(f'{self.nome} sacou: R${quantidade_dinheiro} e o saldo é de {self.saldo}')\n",
        "\n",
        "    def get_saldo(self):\n",
        "        return self.saldo\n",
        "\n",
        "    def transferir(self, quantidade_dinheiro: float, para_cliente):\n",
        "        # faço validação do saldo, com o valor e o segundo parametro é so para mostar\n",
        "        # a operação que está fazendo: transferir ou sacar etc. Neste caso como estou no método transferir é\n",
        "        # a operação 'transferir'\n",
        "        if not self.is_saldo_valido(quantidade_dinheiro, 'transferir'):\n",
        "            return\n",
        "\n",
        "        self.sacar(quantidade_dinheiro) # Retiro do cliente que está transferindo\n",
        "\n",
        "        para_cliente.depositar(quantidade_dinheiro) # Deposito para o cliente que quero transferir\n",
        "\n",
        "        print(f'Sucesso! {self.nome} transferiu para {para_cliente.nome} a quantia de: R${quantidade_dinheiro}')\n",
        "\n",
        "    def is_saldo_valido(self, quantidade_dinheiro:float, operacao:str):\n",
        "        if (self.saldo <= 0):\n",
        "            print(f'Você não tem saldo suficiente para {operacao}!')\n",
        "            return False\n",
        "\n",
        "        if (quantidade_dinheiro > self.saldo):\n",
        "            print(f'O valor que quer {operacao} é maior que o saldo!')\n",
        "            return False\n",
        "\n",
        "        return True\n",
        "\n",
        "    def __str__(self):\n",
        "        return f'{self.nome} Saldo: {self.saldo}'\n"
      ]
    },
    {
      "cell_type": "markdown",
      "source": [
        "banco.py"
      ],
      "metadata": {
        "id": "NbuWHaZvT5r3"
      }
    },
    {
      "cell_type": "code",
      "source": [
        "#from cliente import Cliente # Aqui no colab esse import pode dar erro, então remova ou deixa comentado ele ou execute em uma IDE: pyCharm, Visual Code etc\n",
        "\n",
        "# Tente fazer passo a passo as linhas a seguir\n",
        "\n",
        "def principal():\n",
        "    cliente1: Cliente = Cliente('Joao', 12345, 2000.0)\n",
        "    cliente2: Cliente = Cliente('Maria', 54321, 1000.0)\n",
        "\n",
        "    print(cliente1)\n",
        "    print(cliente2)\n",
        "\n",
        "    cliente1.sacar(500.00)\n",
        "    cliente2.depositar(100.00)\n",
        "\n",
        "    #print(cliente1.get_saldo())\n",
        "    #print(cliente2.get_saldo())\n",
        "\n",
        "    cliente1.sacar(2500.00)\n",
        "\n",
        "    #print(cliente1.get_saldo())\n",
        "\n",
        "    cliente1.transferir(900.00, cliente2)\n",
        "    print(cliente1.get_saldo())\n",
        "    print(cliente2.get_saldo())\n",
        "\n",
        "    cliente1.transferir(800.00, cliente2)\n",
        "    print(cliente1.get_saldo())\n",
        "    print(cliente2.get_saldo())\n",
        "\n",
        "if __name__ == '__main__':\n",
        "    principal()"
      ],
      "metadata": {
        "colab": {
          "base_uri": "https://localhost:8080/"
        },
        "id": "b7gxyTDJT7Te",
        "outputId": "6ae31e06-00b2-4e29-c83f-f6f811605cc9"
      },
      "execution_count": 5,
      "outputs": [
        {
          "output_type": "stream",
          "name": "stdout",
          "text": [
            "Joao Saldo: 2000.0\n",
            "Maria Saldo: 1000.0\n",
            "Joao sacou: R$500.0 e o saldo é de 1500.0\n",
            "O valor que quer sacar é maior que o saldo!\n",
            "Joao sacou: R$900.0 e o saldo é de 600.0\n",
            "Sucesso! Joao transferiu para Maria a quantia de: R$900.0\n",
            "600.0\n",
            "2000.0\n",
            "O valor que quer transferir é maior que o saldo!\n",
            "600.0\n",
            "2000.0\n"
          ]
        }
      ]
    }
  ]
}