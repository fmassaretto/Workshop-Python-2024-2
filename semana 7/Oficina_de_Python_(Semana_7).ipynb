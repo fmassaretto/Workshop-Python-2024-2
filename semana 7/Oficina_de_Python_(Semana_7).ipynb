{
  "nbformat": 4,
  "nbformat_minor": 0,
  "metadata": {
    "colab": {
      "provenance": []
    },
    "kernelspec": {
      "name": "python3",
      "display_name": "Python 3"
    },
    "language_info": {
      "name": "python"
    }
  },
  "cells": [
    {
      "cell_type": "markdown",
      "source": [
        "# Classes e Objetos\n",
        "Classe é uma representação de algo do mundo real. É como se fosse a planta de uma casa. A partir da classe pode se criar um objeto. Ela pode conter:\n",
        "\n",
        "1. atributos: definem o estado e as características da classe.\n",
        "\n",
        "2. métodos: que alteram o estado ou característica\n",
        "\n",
        "\n",
        "```\n",
        "class Carro:\n",
        "\n",
        "  # Seu código aqui\n",
        "```\n",
        "\n",
        "Leia-se classe do tipo carro. Nome de classes sempre começam com a primeira letra maiúscula.\n",
        "\n",
        "\n",
        "\n",
        "Com ela criada nos podemos instanciar a classe, que nada mais é que chamar ou atribuir a classe a um objeto.\n",
        "\n",
        "Nós criamos o objeto da seguinte forma:\n",
        "\n",
        "\n",
        "```\n",
        "carro = Carro()\n",
        "```\n",
        "\n",
        "Agora nós podemos usar o objeto e acessar seus atributos e métodos.\n"
      ],
      "metadata": {
        "id": "dIoeQ8Lm39-_"
      }
    },
    {
      "cell_type": "code",
      "execution_count": 2,
      "metadata": {
        "colab": {
          "base_uri": "https://localhost:8080/"
        },
        "id": "KjZYf9E9lhYK",
        "outputId": "a9a613ab-8dd1-4544-be44-d74d1acbe758"
      },
      "outputs": [
        {
          "output_type": "stream",
          "name": "stdout",
          "text": [
            "consul Asd123 branco\n",
            "Microondas(marca: consul, modelo: Asd123, cor: branco, potencia: 0)\n",
            "consul Asd123 branco\n",
            "consulbrastemp\n",
            "O microondas (consul) inicou o funcionamento por 10 segundos\n"
          ]
        }
      ],
      "source": [
        "class Microondas:\n",
        "    def __init__(self, marca, modelo, cor):\n",
        "        self.marca = marca\n",
        "        self.modelo = modelo\n",
        "        self.cor = cor\n",
        "        self.potencia = 0\n",
        "        self.esta_lidgado = False\n",
        "\n",
        "    def set_potencia(self, potencia): # definir uma potência\n",
        "        self.potencia = potencia\n",
        "\n",
        "    def get_nome_descritivo(self): # pegar o nome descritivo\n",
        "        nome_longo = f\"{self.ano} {self.marca} {self.modelo}\"\n",
        "        return nome_longo.title()\n",
        "\n",
        "    def ligar(self):\n",
        "      if not self.esta_lidgado:\n",
        "        self.esta_lidgado = True\n",
        "\n",
        "    def desligar(self):\n",
        "      if self.esta_lidgado:\n",
        "        self.esta_lidgado = False\n",
        "\n",
        "    def iniciar_microondas(self, segundos):\n",
        "      if self.esta_lidgado:\n",
        "        print(f\"O microondas ({self.marca}) inicou o funcionamento por {segundos} segundos\")\n",
        "      else:\n",
        "        print(f\"O microondas ({self.marca}) está desligado\")\n",
        "\n",
        "    def __str__(self):\n",
        "        return f\"{self.marca} {self.modelo} {self.cor}\"\n",
        "\n",
        "    def __repr__(self): # parecido com o __str__ mas é mais util para o desenvolvedor e preciso colocar a classe dentro de repr(classe), ver exemplo abaixo\n",
        "        return f'Microondas(marca: {self.marca}, modelo: {self.modelo}, cor: {self.cor}, potencia: {self.potencia})'\n",
        "\n",
        "    def __add__(self, outro_microondas):\n",
        "        return self.marca + outro_microondas.marca\n",
        "\n",
        "consul: Microondas = Microondas('consul', 'Asd123', 'branco')\n",
        "brastemp = Microondas('brastemp', 'brastemp', 'cinza')\n",
        "print(consul)\n",
        "print(repr(consul))\n",
        "print(consul)\n",
        "print(consul + brastemp)\n",
        "# print(consul.marca)\n",
        "# print(brastemp.marca)\n",
        "# print(consul.potencia)\n",
        "consul.set_potencia(1450)\n",
        "# print(consul.get_potencia())\n",
        "consul.ligar()\n",
        "consul.iniciar_microondas(10)"
      ]
    },
    {
      "cell_type": "markdown",
      "source": [
        "# Desafio 1\n",
        "\n",
        "Crie uma classe tipo Automovel, inicialize os atributos: tipo, marca, modelo e ano.\n",
        "\n",
        "Criei um método para setar a potencia do carro, um metodo para pegar de volta a potencia e outro método para mostar qual a letra de habilitacao para tipo de automovel (ex.: carro é letra 'B', moto é letra 'A', caminhão é 'C' etc) e um dunder método para exibir todas as informações."
      ],
      "metadata": {
        "id": "Bn9XcXMva_Ns"
      }
    }
  ]
}